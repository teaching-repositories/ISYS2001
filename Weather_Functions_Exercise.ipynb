{
  "cells": [
    {
      "cell_type": "markdown",
      "metadata": {
        "id": "view-in-github",
        "colab_type": "text"
      },
      "source": [
        "<a href=\"https://colab.research.google.com/github/teaching-repositories/ISYS2001/blob/main/Weather_Functions_Exercise.ipynb\" target=\"_parent\"><img src=\"https://colab.research.google.com/assets/colab-badge.svg\" alt=\"Open In Colab\"/></a>"
      ]
    },
    {
      "cell_type": "markdown",
      "metadata": {
        "id": "S0gvau2B2oEG"
      },
      "source": [
        "## Setup and Workflow\n",
        "\n",
        "1. Open your web browser and log in to GitHub.\n",
        "2. Open Google Colab (https://colab.research.google.com/).\n",
        "3. Either open [Weather_Function_Exercise](https://github.com/teaching-repositories/ISYS2001/blob/main/Weather_Functions_Exercise.ipynb) or create a new notebook and rename it to \"Weather_Functions_Exercise\".\n",
        "4. Save the notebook to your GitHub repository.\n",
        "5. As you complete each exercise, commit your changes to GitHub to track your progress.\n",
        "\n",
        "## Using Generative AI as a Learning Tool\n",
        "\n",
        "Generative AI tools like ChatGPT or Claude can be valuable resources in your\n",
        "learning process. However, it's crucial to use them strategically to enhance\n",
        "your understanding rather than simply obtaining answers. Here are some\n",
        "guidelines:\n",
        "\n",
        "1. Use AI to explain concepts: If you're struggling with a Python concept or\n",
        "   function, ask the AI to explain it in simple terms or provide analogies.\n",
        "2. Request step-by-step problem-solving: Instead of asking for complete code,\n",
        "   ask the AI to outline the steps needed to solve a problem. This helps you\n",
        "   understand the logic without getting the full solution.\n",
        "3. Verify and understand AI-generated code: If you do get code from an AI, make\n",
        "   sure you understand every line. Ask the AI to explain any parts you don't\n",
        "   understand.\n",
        "4. Use AI for debugging: If your code isn't working, ask the AI to help you\n",
        "   identify potential issues or explain error messages.\n",
        "5. Explore alternatives: Ask the AI about different ways to solve a problem.\n",
        "   This can help you learn multiple approaches and understand their trade-offs.\n",
        "6. Practice critical thinking: Don't assume the AI is always correct. Verify its\n",
        "   suggestions and cross-reference with official documentation or other sources.\n",
        "\n",
        "## Exercises\n",
        "\n",
        "### 1. GenAI Exercise\n",
        "\n",
        "Question 1: Think of a weather-related programming task you're unsure how to\n",
        "approach. Write a strategic question you could ask an AI assistant to help you\n",
        "learn without directly solving the problem for you.\n",
        "\n"
      ]
    },
    {
      "cell_type": "markdown",
      "metadata": {
        "id": "PCHZMEOz2oEH"
      },
      "source": [
        "Q1 Answer (double click to add text):"
      ]
    },
    {
      "cell_type": "markdown",
      "metadata": {
        "id": "3tO60jO62oEI"
      },
      "source": [
        "### 2. Introduction to Functions\n",
        "\n",
        "Question 2: Explain in your own words what a function is in Python and why we\n",
        "use them.\n"
      ]
    },
    {
      "cell_type": "markdown",
      "metadata": {
        "id": "VifEGS4e2oEI"
      },
      "source": [
        "A function is a group of statements to do one thing.\n",
        "\n",
        "Here is how chatGPt improved my answer:\n",
        "\n",
        "Certainly! Here's an improved description:\n",
        "\n",
        "---\n",
        "\n",
        "A function in Python is a reusable block of code that performs a specific task. It groups together a set of instructions to accomplish a particular operation, which can be executed whenever the function is called.\n",
        "\n",
        "---\n",
        "\n",
        "This version provides a bit more clarity on what a function is and emphasizes its reusability and specific purpose."
      ]
    },
    {
      "cell_type": "markdown",
      "metadata": {
        "id": "IiBo8NRF2oEI"
      },
      "source": [
        "\n",
        "Question 3: Write the general syntax for defining a function in Python. Use\n",
        "comments to explain each part.\n"
      ]
    },
    {
      "cell_type": "markdown",
      "metadata": {
        "id": "HVA81Wah2oEJ"
      },
      "source": [
        "Q3 Answer (double click to add text):"
      ]
    },
    {
      "cell_type": "markdown",
      "metadata": {
        "id": "0oGhOUGM2oEJ"
      },
      "source": [
        "\n",
        "\n",
        "### 3. Using Built-in Functions\n",
        "\n",
        "For the following exercises, use these lists:"
      ]
    },
    {
      "cell_type": "code",
      "execution_count": 7,
      "metadata": {
        "vscode": {
          "languageId": "python"
        },
        "id": "QNoQvFYe2oEJ"
      },
      "outputs": [],
      "source": [
        "temperatures = [22, 24, 19, 21, 25, 23, 20]  # Weekly temperature data (°C)\n",
        "humidity = [60, 55, 65, 58, 50, 57, 62]      # Weekly humidity data (%)"
      ]
    },
    {
      "cell_type": "markdown",
      "metadata": {
        "id": "L9UjwD_O2oEK"
      },
      "source": [
        "Question 4: How would you calculate the number of days in the dataset using a\n",
        "built-in function?"
      ]
    },
    {
      "cell_type": "code",
      "execution_count": null,
      "metadata": {
        "vscode": {
          "languageId": "python"
        },
        "id": "K9cBEbH82oEK"
      },
      "outputs": [],
      "source": [
        "# Place your answer here"
      ]
    },
    {
      "cell_type": "markdown",
      "metadata": {
        "id": "_8YrOLQ12oEL"
      },
      "source": [
        "Question 5: Write a line of code to calculate the total temperature for the\n",
        "week."
      ]
    },
    {
      "cell_type": "code",
      "execution_count": null,
      "metadata": {
        "vscode": {
          "languageId": "python"
        },
        "id": "5G-vNagm2oEL"
      },
      "outputs": [],
      "source": [
        "# Place your answer here"
      ]
    },
    {
      "cell_type": "markdown",
      "metadata": {
        "id": "5DfaWxIe2oEL"
      },
      "source": [
        "Question 6: Calculate the average humidity. (Hint: You'll need to use two\n",
        "built-in functions)"
      ]
    },
    {
      "cell_type": "code",
      "execution_count": null,
      "metadata": {
        "vscode": {
          "languageId": "python"
        },
        "id": "2BMoNq262oEL"
      },
      "outputs": [],
      "source": [
        "# Place your answer here"
      ]
    },
    {
      "cell_type": "markdown",
      "metadata": {
        "id": "0-6vIPIJ2oEL"
      },
      "source": [
        "### 4. Creating Weather-related Functions\n",
        "\n",
        "Question 7: Write a function called `celsius_to_fahrenheit` that converts a\n",
        "temperature from Celsius to Fahrenheit. (Hint: The formula is F = (C * 9/5) +\n",
        "32)"
      ]
    },
    {
      "cell_type": "code",
      "execution_count": null,
      "metadata": {
        "vscode": {
          "languageId": "python"
        },
        "id": "LQlUIvQA2oEL"
      },
      "outputs": [],
      "source": [
        "# Place your answer here"
      ]
    },
    {
      "cell_type": "markdown",
      "metadata": {
        "id": "FyTrBIOV2oEL"
      },
      "source": [
        "Question 8: Create a function named `average_temperature` that takes a list of\n",
        "temperatures and returns the average."
      ]
    },
    {
      "cell_type": "code",
      "execution_count": null,
      "metadata": {
        "vscode": {
          "languageId": "python"
        },
        "id": "YJYhdVns2oEM"
      },
      "outputs": [],
      "source": [
        "# Place your answer here"
      ]
    },
    {
      "cell_type": "markdown",
      "metadata": {
        "id": "lZyvWIZO2oEM"
      },
      "source": [
        "Question 9: Define a function called `weather_description` that takes\n",
        "temperature and humidity as parameters and returns a description based on the\n",
        "following criteria:\n",
        "\n",
        "- If temperature > 25°C and humidity < 60%: \"Hot and Dry\"\n",
        "- If temperature > 25°C and humidity >= 60%: \"Hot and Humid\"\n",
        "- If 15°C <= temperature <= 25°C and humidity < 60%: \"Pleasant\"\n",
        "- If 15°C <= temperature <= 25°C and humidity >= 60%: \"Comfortable but Humid\"\n",
        "- Otherwise: \"Cool\""
      ]
    },
    {
      "cell_type": "code",
      "execution_count": null,
      "metadata": {
        "vscode": {
          "languageId": "python"
        },
        "id": "USDiCwrc2oEM"
      },
      "outputs": [],
      "source": [
        "# Place your answer here"
      ]
    },
    {
      "cell_type": "markdown",
      "metadata": {
        "id": "0tbD46xM2oEM"
      },
      "source": [
        "### 5. Using Third-party Libraries: NumPy\n",
        "\n",
        "For the following questions, assume you have already imported numpy as np.\n",
        "\n",
        "Question 10: Using NumPy, create an array called `temp_array` from the\n",
        "`temperatures` list."
      ]
    },
    {
      "cell_type": "code",
      "execution_count": null,
      "metadata": {
        "vscode": {
          "languageId": "python"
        },
        "id": "PzybCQMF2oEM"
      },
      "outputs": [],
      "source": [
        "# Place your answer here"
      ]
    },
    {
      "cell_type": "markdown",
      "metadata": {
        "id": "2233JH3c2oEM"
      },
      "source": [
        "Question 11: Using Numpy, Calculate the following statistics for `temp_array`:\n",
        "\n",
        "a) Mean temperature\n",
        "b) Maximum temperature\n",
        "c) Minimum temperature\n",
        "d) Standard deviation of temperatures"
      ]
    },
    {
      "cell_type": "code",
      "execution_count": null,
      "metadata": {
        "vscode": {
          "languageId": "python"
        },
        "id": "Ycd863Z82oEN"
      },
      "outputs": [],
      "source": [
        "# Place your answer here"
      ]
    },
    {
      "cell_type": "markdown",
      "metadata": {
        "id": "B5nlOQJs2oEN"
      },
      "source": [
        "### 6 Placeting It All Together\n",
        "\n",
        "Question 12: Create a simple weather dashboard that uses the functions you've created earlier. Your dashboard should:\n",
        "\n",
        "a) Use the `temperatures` and `humidity` lists from earlier exercises.\n",
        "b) Utilise the `celsius_to_fahrenheit`, `average_temperature`, and `weather_description` functions you created.\n",
        "c) Use NumPy to perform some calculations.\n",
        "d) Display the following information:\n",
        "   - Daily weather description for each day\n",
        "   - Average temperature in both Celsius and Fahrenheit\n",
        "   - The hottest and coldest days of the week\n",
        "   - A summary of how many days were in each weather category (e.g., \"Hot and Dry\", \"Pleasant\", etc.)\n",
        "\n",
        "Write a Python script that creates this dashboard. You can display the\n",
        "information using print statements.\n",
        "\n",
        "Hint: You might want to use a loop to go through the daily data, and you can use\n",
        "a dictionary to keep track of the count of different weather descriptions."
      ]
    },
    {
      "cell_type": "code",
      "execution_count": null,
      "metadata": {
        "vscode": {
          "languageId": "python"
        },
        "id": "zoSnyE8y2oEN"
      },
      "outputs": [],
      "source": [
        "# Place your answer here"
      ]
    },
    {
      "cell_type": "markdown",
      "metadata": {
        "id": "0YB6HeX52oEN"
      },
      "source": [
        "### 7 Reflection\n",
        "\n",
        "Question 13: Briefly explain how functions have helped in organising and\n",
        "simplifying the code in this weather data analysis exercise.\n",
        "\n"
      ]
    },
    {
      "cell_type": "markdown",
      "metadata": {
        "id": "Gx2d66nI2oEN"
      },
      "source": [
        "Q13 Answer (double click to add text):"
      ]
    },
    {
      "cell_type": "markdown",
      "metadata": {
        "id": "dPXPuzHi2oEN"
      },
      "source": [
        "### 6 Additional Exercises (Optional)\n",
        "\n",
        "- Create a new NumPy array that contains the temperature differences\n",
        "between consecutive days. (Hint: Look up NumPy's `diff()` function)\n"
      ]
    },
    {
      "cell_type": "code",
      "execution_count": null,
      "metadata": {
        "vscode": {
          "languageId": "python"
        },
        "id": "hc-yh1lu2oEN"
      },
      "outputs": [],
      "source": [
        "# Place your answer here"
      ]
    },
    {
      "cell_type": "markdown",
      "metadata": {
        "id": "Ve0-vUcI2oEN"
      },
      "source": [
        "- Use NumPy to find all days where the temperature was above 23°C.\n",
        "Return both the temperatures and their indices.\n"
      ]
    },
    {
      "cell_type": "code",
      "execution_count": null,
      "metadata": {
        "vscode": {
          "languageId": "python"
        },
        "id": "u549sp-92oEO"
      },
      "outputs": [],
      "source": [
        "# Place your answer here"
      ]
    },
    {
      "cell_type": "markdown",
      "metadata": {
        "id": "KfjmiFPl2oEO"
      },
      "source": [
        "- Write a function that converts wind speed from m/s to km/h. (Hint:\n",
        "1 m/s = 3.6 km/h)\n"
      ]
    },
    {
      "cell_type": "code",
      "execution_count": null,
      "metadata": {
        "vscode": {
          "languageId": "python"
        },
        "id": "t1a3NBLa2oEO"
      },
      "outputs": [],
      "source": [
        "# Place your answer here"
      ]
    },
    {
      "cell_type": "markdown",
      "metadata": {
        "id": "vlxqlzKb2oEO"
      },
      "source": [
        "- Create a function that calculates the heat index given temperature\n",
        "(in Celsius) and relative humidity. You can use a simplified formula:\n",
        "\n",
        "    HI = c1 + c2T + c3R + c4T*R + c5T^2 + c6R^2 + c7T^2*R + c8T*R^2 + c9T^2*R^2\n",
        "\n",
        "    Where T is temperature, R is relative humidity (as a whole number, not a\n",
        "    percentage), and c1 to c9 are constants you can look up.\n"
      ]
    },
    {
      "cell_type": "code",
      "execution_count": null,
      "metadata": {
        "vscode": {
          "languageId": "python"
        },
        "id": "Z0tOBw3L2oEO"
      },
      "outputs": [],
      "source": [
        "# Place your answer here"
      ]
    },
    {
      "cell_type": "markdown",
      "metadata": {
        "id": "nIDXVUGG2oEO"
      },
      "source": [
        "- How would you use pandas to read weather data from a CSV file named\n",
        "'weather_data.csv' and display the first 5 rows?"
      ]
    },
    {
      "cell_type": "code",
      "execution_count": null,
      "metadata": {
        "vscode": {
          "languageId": "python"
        },
        "id": "vxea28ij2oEO"
      },
      "outputs": [],
      "source": [
        "# Place your answer here"
      ]
    },
    {
      "cell_type": "markdown",
      "metadata": {
        "id": "TxguZF8q2oEP"
      },
      "source": [
        "- Describe how you would create a scatter plot using matplotlib to\n",
        "show the relationship between temperature and humidity.\n"
      ]
    },
    {
      "cell_type": "code",
      "execution_count": null,
      "metadata": {
        "vscode": {
          "languageId": "python"
        },
        "id": "l3-jgVN22oEP"
      },
      "outputs": [],
      "source": [
        "# Place your answer here"
      ]
    },
    {
      "cell_type": "markdown",
      "metadata": {
        "id": "yUKx7mu-2oEP"
      },
      "source": [
        "Remember to save your work to GitHub regularly. You can do this by clicking on\n",
        "\"File\" > \"Save a copy in GitHub\" in Google Colab."
      ]
    }
  ],
  "metadata": {
    "kernelspec": {
      "display_name": "Python 3 (ipykernel)",
      "language": "python",
      "name": "python3"
    },
    "colab": {
      "provenance": [],
      "include_colab_link": true
    }
  },
  "nbformat": 4,
  "nbformat_minor": 0
}